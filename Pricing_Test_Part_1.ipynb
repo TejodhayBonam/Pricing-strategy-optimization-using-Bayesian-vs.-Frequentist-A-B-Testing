{
 "cells": [
  {
   "cell_type": "markdown",
   "metadata": {},
   "source": [
    "# Pricing Test Solution"
   ]
  },
  {
   "cell_type": "markdown",
   "metadata": {},
   "source": [
    "Problem Statement:\n",
    "\n",
    "Should the company sell its software for \\$39 or \\$59?\n",
    "\n",
    "The VP of Product is interested in having a holistic view into user behavior, especially\n",
    "focusing on actionable insights that might increase conversion rate. What are your main\n",
    "findings looking at the data?\n",
    "\n",
    "[Bonus] The VP of Product feels that the test has been running for too long and he should\n",
    "have been able to get statistically significant results in a shorter time. Do you agree with\n",
    "her intuition? After how many days you would have stopped the test? Please, explain\n",
    "why."
   ]
  },
  {
   "cell_type": "code",
   "execution_count": 35,
   "metadata": {
    "collapsed": false
   },
   "outputs": [],
   "source": [
    "import pandas as pd\n",
    "import seaborn as sns\n",
    "import matplotlib.pyplot as plt\n",
    "%matplotlib inline\n",
    "\n",
    "user_table=pd.read_csv('../user_table.csv')\n",
    "test = pd.read_csv('../test_results.csv')\n"
   ]
  },
  {
   "cell_type": "markdown",
   "metadata": {},
   "source": [
    "First, lets take a look at the data and spot any abnormalities"
   ]
  },
  {
   "cell_type": "code",
   "execution_count": 8,
   "metadata": {
    "collapsed": false
   },
   "outputs": [
    {
     "data": {
      "text/plain": [
       "user_id    275616\n",
       "city       275616\n",
       "country    275616\n",
       "lat        275616\n",
       "long       275616\n",
       "dtype: int64"
      ]
     },
     "execution_count": 8,
     "metadata": {},
     "output_type": "execute_result"
    }
   ],
   "source": [
    "test.count()"
   ]
  },
  {
   "cell_type": "code",
   "execution_count": 3,
   "metadata": {
    "collapsed": false
   },
   "outputs": [
    {
     "data": {
      "text/plain": [
       "user_id             316800\n",
       "timestamp           316800\n",
       "source              316800\n",
       "device              316800\n",
       "operative_system    316800\n",
       "test                316800\n",
       "price               316800\n",
       "converted           316800\n",
       "dtype: int64"
      ]
     },
     "execution_count": 3,
     "metadata": {},
     "output_type": "execute_result"
    }
   ],
   "source": [
    "a=test.drop_duplicates('user_id')\n",
    "a.count()"
   ]
  },
  {
   "cell_type": "code",
   "execution_count": 9,
   "metadata": {
    "collapsed": false
   },
   "outputs": [
    {
     "data": {
      "text/plain": [
       "user_id    275616\n",
       "city       275616\n",
       "country    275616\n",
       "lat        275616\n",
       "long       275616\n",
       "dtype: int64"
      ]
     },
     "execution_count": 9,
     "metadata": {},
     "output_type": "execute_result"
    }
   ],
   "source": [
    "user_table.count()"
   ]
  },
  {
   "cell_type": "code",
   "execution_count": 12,
   "metadata": {
    "collapsed": false
   },
   "outputs": [
    {
     "data": {
      "text/plain": [
       "user_id    275616\n",
       "city       275616\n",
       "country    275616\n",
       "lat        275616\n",
       "long       275616\n",
       "dtype: int64"
      ]
     },
     "execution_count": 12,
     "metadata": {},
     "output_type": "execute_result"
    }
   ],
   "source": [
    "a=user_table.drop_duplicates('user_id')\n",
    "a.count()"
   ]
  },
  {
   "cell_type": "markdown",
   "metadata": {},
   "source": [
    "Good news! There are no duplicate user_ids in the test and user_table"
   ]
  },
  {
   "cell_type": "code",
   "execution_count": 7,
   "metadata": {
    "collapsed": false
   },
   "outputs": [
    {
     "ename": "ValueError",
     "evalue": "minute must be in 0..59",
     "output_type": "error",
     "traceback": [
      "\u001b[0;31m---------------------------------------------------------------------------\u001b[0m",
      "\u001b[0;31mTypeError\u001b[0m                                 Traceback (most recent call last)",
      "\u001b[0;32m/home/jeremy/anaconda3/lib/python3.5/site-packages/pandas/tseries/tools.py\u001b[0m in \u001b[0;36m_convert_listlike\u001b[0;34m(arg, box, format, name, tz)\u001b[0m\n\u001b[1;32m    409\u001b[0m             \u001b[0;32mtry\u001b[0m\u001b[0;34m:\u001b[0m\u001b[0;34m\u001b[0m\u001b[0m\n\u001b[0;32m--> 410\u001b[0;31m                 \u001b[0mvalues\u001b[0m\u001b[0;34m,\u001b[0m \u001b[0mtz\u001b[0m \u001b[0;34m=\u001b[0m \u001b[0mtslib\u001b[0m\u001b[0;34m.\u001b[0m\u001b[0mdatetime_to_datetime64\u001b[0m\u001b[0;34m(\u001b[0m\u001b[0marg\u001b[0m\u001b[0;34m)\u001b[0m\u001b[0;34m\u001b[0m\u001b[0m\n\u001b[0m\u001b[1;32m    411\u001b[0m                 \u001b[0;32mreturn\u001b[0m \u001b[0mDatetimeIndex\u001b[0m\u001b[0;34m.\u001b[0m\u001b[0m_simple_new\u001b[0m\u001b[0;34m(\u001b[0m\u001b[0mvalues\u001b[0m\u001b[0;34m,\u001b[0m \u001b[0mname\u001b[0m\u001b[0;34m=\u001b[0m\u001b[0mname\u001b[0m\u001b[0;34m,\u001b[0m \u001b[0mtz\u001b[0m\u001b[0;34m=\u001b[0m\u001b[0mtz\u001b[0m\u001b[0;34m)\u001b[0m\u001b[0;34m\u001b[0m\u001b[0m\n",
      "\u001b[0;32mpandas/tslib.pyx\u001b[0m in \u001b[0;36mpandas.tslib.datetime_to_datetime64 (pandas/tslib.c:33358)\u001b[0;34m()\u001b[0m\n",
      "\u001b[0;31mTypeError\u001b[0m: Unrecognized value type: <class 'str'>",
      "\nDuring handling of the above exception, another exception occurred:\n",
      "\u001b[0;31mValueError\u001b[0m                                Traceback (most recent call last)",
      "\u001b[0;32m<ipython-input-7-693827588047>\u001b[0m in \u001b[0;36m<module>\u001b[0;34m()\u001b[0m\n\u001b[0;32m----> 1\u001b[0;31m \u001b[0mtest\u001b[0m\u001b[0;34m[\u001b[0m\u001b[0;34m'date'\u001b[0m\u001b[0;34m]\u001b[0m\u001b[0;34m=\u001b[0m\u001b[0mpd\u001b[0m\u001b[0;34m.\u001b[0m\u001b[0mto_datetime\u001b[0m\u001b[0;34m(\u001b[0m\u001b[0mtest\u001b[0m\u001b[0;34m.\u001b[0m\u001b[0mtimestamp\u001b[0m\u001b[0;34m,\u001b[0m\u001b[0merrors\u001b[0m\u001b[0;34m=\u001b[0m\u001b[0;34m'raise'\u001b[0m\u001b[0;34m)\u001b[0m\u001b[0;34m\u001b[0m\u001b[0m\n\u001b[0m",
      "\u001b[0;32m/home/jeremy/anaconda3/lib/python3.5/site-packages/pandas/util/decorators.py\u001b[0m in \u001b[0;36mwrapper\u001b[0;34m(*args, **kwargs)\u001b[0m\n\u001b[1;32m     89\u001b[0m                 \u001b[0;32melse\u001b[0m\u001b[0;34m:\u001b[0m\u001b[0;34m\u001b[0m\u001b[0m\n\u001b[1;32m     90\u001b[0m                     \u001b[0mkwargs\u001b[0m\u001b[0;34m[\u001b[0m\u001b[0mnew_arg_name\u001b[0m\u001b[0;34m]\u001b[0m \u001b[0;34m=\u001b[0m \u001b[0mnew_arg_value\u001b[0m\u001b[0;34m\u001b[0m\u001b[0m\n\u001b[0;32m---> 91\u001b[0;31m             \u001b[0;32mreturn\u001b[0m \u001b[0mfunc\u001b[0m\u001b[0;34m(\u001b[0m\u001b[0;34m*\u001b[0m\u001b[0margs\u001b[0m\u001b[0;34m,\u001b[0m \u001b[0;34m**\u001b[0m\u001b[0mkwargs\u001b[0m\u001b[0;34m)\u001b[0m\u001b[0;34m\u001b[0m\u001b[0m\n\u001b[0m\u001b[1;32m     92\u001b[0m         \u001b[0;32mreturn\u001b[0m \u001b[0mwrapper\u001b[0m\u001b[0;34m\u001b[0m\u001b[0m\n\u001b[1;32m     93\u001b[0m     \u001b[0;32mreturn\u001b[0m \u001b[0m_deprecate_kwarg\u001b[0m\u001b[0;34m\u001b[0m\u001b[0m\n",
      "\u001b[0;32m/home/jeremy/anaconda3/lib/python3.5/site-packages/pandas/tseries/tools.py\u001b[0m in \u001b[0;36mto_datetime\u001b[0;34m(arg, errors, dayfirst, yearfirst, utc, box, format, exact, coerce, unit, infer_datetime_format)\u001b[0m\n\u001b[1;32m    419\u001b[0m     \u001b[0;32melif\u001b[0m \u001b[0misinstance\u001b[0m\u001b[0;34m(\u001b[0m\u001b[0marg\u001b[0m\u001b[0;34m,\u001b[0m \u001b[0mABCSeries\u001b[0m\u001b[0;34m)\u001b[0m\u001b[0;34m:\u001b[0m\u001b[0;34m\u001b[0m\u001b[0m\n\u001b[1;32m    420\u001b[0m         \u001b[0;32mfrom\u001b[0m \u001b[0mpandas\u001b[0m \u001b[0;32mimport\u001b[0m \u001b[0mSeries\u001b[0m\u001b[0;34m\u001b[0m\u001b[0m\n\u001b[0;32m--> 421\u001b[0;31m         \u001b[0mvalues\u001b[0m \u001b[0;34m=\u001b[0m \u001b[0m_convert_listlike\u001b[0m\u001b[0;34m(\u001b[0m\u001b[0marg\u001b[0m\u001b[0;34m.\u001b[0m\u001b[0m_values\u001b[0m\u001b[0;34m,\u001b[0m \u001b[0;32mFalse\u001b[0m\u001b[0;34m,\u001b[0m \u001b[0mformat\u001b[0m\u001b[0;34m)\u001b[0m\u001b[0;34m\u001b[0m\u001b[0m\n\u001b[0m\u001b[1;32m    422\u001b[0m         \u001b[0;32mreturn\u001b[0m \u001b[0mSeries\u001b[0m\u001b[0;34m(\u001b[0m\u001b[0mvalues\u001b[0m\u001b[0;34m,\u001b[0m \u001b[0mindex\u001b[0m\u001b[0;34m=\u001b[0m\u001b[0marg\u001b[0m\u001b[0;34m.\u001b[0m\u001b[0mindex\u001b[0m\u001b[0;34m,\u001b[0m \u001b[0mname\u001b[0m\u001b[0;34m=\u001b[0m\u001b[0marg\u001b[0m\u001b[0;34m.\u001b[0m\u001b[0mname\u001b[0m\u001b[0;34m)\u001b[0m\u001b[0;34m\u001b[0m\u001b[0m\n\u001b[1;32m    423\u001b[0m     \u001b[0;32melif\u001b[0m \u001b[0misinstance\u001b[0m\u001b[0;34m(\u001b[0m\u001b[0marg\u001b[0m\u001b[0;34m,\u001b[0m \u001b[0;34m(\u001b[0m\u001b[0mABCDataFrame\u001b[0m\u001b[0;34m,\u001b[0m \u001b[0mMutableMapping\u001b[0m\u001b[0;34m)\u001b[0m\u001b[0;34m)\u001b[0m\u001b[0;34m:\u001b[0m\u001b[0;34m\u001b[0m\u001b[0m\n",
      "\u001b[0;32m/home/jeremy/anaconda3/lib/python3.5/site-packages/pandas/tseries/tools.py\u001b[0m in \u001b[0;36m_convert_listlike\u001b[0;34m(arg, box, format, name, tz)\u001b[0m\n\u001b[1;32m    411\u001b[0m                 \u001b[0;32mreturn\u001b[0m \u001b[0mDatetimeIndex\u001b[0m\u001b[0;34m.\u001b[0m\u001b[0m_simple_new\u001b[0m\u001b[0;34m(\u001b[0m\u001b[0mvalues\u001b[0m\u001b[0;34m,\u001b[0m \u001b[0mname\u001b[0m\u001b[0;34m=\u001b[0m\u001b[0mname\u001b[0m\u001b[0;34m,\u001b[0m \u001b[0mtz\u001b[0m\u001b[0;34m=\u001b[0m\u001b[0mtz\u001b[0m\u001b[0;34m)\u001b[0m\u001b[0;34m\u001b[0m\u001b[0m\n\u001b[1;32m    412\u001b[0m             \u001b[0;32mexcept\u001b[0m \u001b[0;34m(\u001b[0m\u001b[0mValueError\u001b[0m\u001b[0;34m,\u001b[0m \u001b[0mTypeError\u001b[0m\u001b[0;34m)\u001b[0m\u001b[0;34m:\u001b[0m\u001b[0;34m\u001b[0m\u001b[0m\n\u001b[0;32m--> 413\u001b[0;31m                 \u001b[0;32mraise\u001b[0m \u001b[0me\u001b[0m\u001b[0;34m\u001b[0m\u001b[0m\n\u001b[0m\u001b[1;32m    414\u001b[0m \u001b[0;34m\u001b[0m\u001b[0m\n\u001b[1;32m    415\u001b[0m     \u001b[0;32mif\u001b[0m \u001b[0marg\u001b[0m \u001b[0;32mis\u001b[0m \u001b[0;32mNone\u001b[0m\u001b[0;34m:\u001b[0m\u001b[0;34m\u001b[0m\u001b[0m\n",
      "\u001b[0;32m/home/jeremy/anaconda3/lib/python3.5/site-packages/pandas/tseries/tools.py\u001b[0m in \u001b[0;36m_convert_listlike\u001b[0;34m(arg, box, format, name, tz)\u001b[0m\n\u001b[1;32m    399\u001b[0m                     \u001b[0mdayfirst\u001b[0m\u001b[0;34m=\u001b[0m\u001b[0mdayfirst\u001b[0m\u001b[0;34m,\u001b[0m\u001b[0;34m\u001b[0m\u001b[0m\n\u001b[1;32m    400\u001b[0m                     \u001b[0myearfirst\u001b[0m\u001b[0;34m=\u001b[0m\u001b[0myearfirst\u001b[0m\u001b[0;34m,\u001b[0m\u001b[0;34m\u001b[0m\u001b[0m\n\u001b[0;32m--> 401\u001b[0;31m                     \u001b[0mrequire_iso8601\u001b[0m\u001b[0;34m=\u001b[0m\u001b[0mrequire_iso8601\u001b[0m\u001b[0;34m\u001b[0m\u001b[0m\n\u001b[0m\u001b[1;32m    402\u001b[0m                 )\n\u001b[1;32m    403\u001b[0m \u001b[0;34m\u001b[0m\u001b[0m\n",
      "\u001b[0;32mpandas/tslib.pyx\u001b[0m in \u001b[0;36mpandas.tslib.array_to_datetime (pandas/tslib.c:46691)\u001b[0;34m()\u001b[0m\n",
      "\u001b[0;32mpandas/tslib.pyx\u001b[0m in \u001b[0;36mpandas.tslib.array_to_datetime (pandas/tslib.c:46307)\u001b[0;34m()\u001b[0m\n",
      "\u001b[0;32mpandas/tslib.pyx\u001b[0m in \u001b[0;36mpandas.tslib.array_to_datetime (pandas/tslib.c:46196)\u001b[0;34m()\u001b[0m\n",
      "\u001b[0;32mpandas/tslib.pyx\u001b[0m in \u001b[0;36mpandas.tslib.parse_datetime_string (pandas/tslib.c:35434)\u001b[0;34m()\u001b[0m\n",
      "\u001b[0;32m/home/jeremy/anaconda3/lib/python3.5/site-packages/dateutil/parser.py\u001b[0m in \u001b[0;36mparse\u001b[0;34m(timestr, parserinfo, **kwargs)\u001b[0m\n\u001b[1;32m   1162\u001b[0m         \u001b[0;32mreturn\u001b[0m \u001b[0mparser\u001b[0m\u001b[0;34m(\u001b[0m\u001b[0mparserinfo\u001b[0m\u001b[0;34m)\u001b[0m\u001b[0;34m.\u001b[0m\u001b[0mparse\u001b[0m\u001b[0;34m(\u001b[0m\u001b[0mtimestr\u001b[0m\u001b[0;34m,\u001b[0m \u001b[0;34m**\u001b[0m\u001b[0mkwargs\u001b[0m\u001b[0;34m)\u001b[0m\u001b[0;34m\u001b[0m\u001b[0m\n\u001b[1;32m   1163\u001b[0m     \u001b[0;32melse\u001b[0m\u001b[0;34m:\u001b[0m\u001b[0;34m\u001b[0m\u001b[0m\n\u001b[0;32m-> 1164\u001b[0;31m         \u001b[0;32mreturn\u001b[0m \u001b[0mDEFAULTPARSER\u001b[0m\u001b[0;34m.\u001b[0m\u001b[0mparse\u001b[0m\u001b[0;34m(\u001b[0m\u001b[0mtimestr\u001b[0m\u001b[0;34m,\u001b[0m \u001b[0;34m**\u001b[0m\u001b[0mkwargs\u001b[0m\u001b[0;34m)\u001b[0m\u001b[0;34m\u001b[0m\u001b[0m\n\u001b[0m\u001b[1;32m   1165\u001b[0m \u001b[0;34m\u001b[0m\u001b[0m\n\u001b[1;32m   1166\u001b[0m \u001b[0;34m\u001b[0m\u001b[0m\n",
      "\u001b[0;32m/home/jeremy/anaconda3/lib/python3.5/site-packages/dateutil/parser.py\u001b[0m in \u001b[0;36mparse\u001b[0;34m(self, timestr, default, ignoretz, tzinfos, **kwargs)\u001b[0m\n\u001b[1;32m    575\u001b[0m                 \u001b[0mrepl\u001b[0m\u001b[0;34m[\u001b[0m\u001b[0;34m'day'\u001b[0m\u001b[0;34m]\u001b[0m \u001b[0;34m=\u001b[0m \u001b[0mmonthrange\u001b[0m\u001b[0;34m(\u001b[0m\u001b[0mcyear\u001b[0m\u001b[0;34m,\u001b[0m \u001b[0mcmonth\u001b[0m\u001b[0;34m)\u001b[0m\u001b[0;34m[\u001b[0m\u001b[0;36m1\u001b[0m\u001b[0;34m]\u001b[0m\u001b[0;34m\u001b[0m\u001b[0m\n\u001b[1;32m    576\u001b[0m \u001b[0;34m\u001b[0m\u001b[0m\n\u001b[0;32m--> 577\u001b[0;31m         \u001b[0mret\u001b[0m \u001b[0;34m=\u001b[0m \u001b[0mdefault\u001b[0m\u001b[0;34m.\u001b[0m\u001b[0mreplace\u001b[0m\u001b[0;34m(\u001b[0m\u001b[0;34m**\u001b[0m\u001b[0mrepl\u001b[0m\u001b[0;34m)\u001b[0m\u001b[0;34m\u001b[0m\u001b[0m\n\u001b[0m\u001b[1;32m    578\u001b[0m \u001b[0;34m\u001b[0m\u001b[0m\n\u001b[1;32m    579\u001b[0m         \u001b[0;32mif\u001b[0m \u001b[0mres\u001b[0m\u001b[0;34m.\u001b[0m\u001b[0mweekday\u001b[0m \u001b[0;32mis\u001b[0m \u001b[0;32mnot\u001b[0m \u001b[0;32mNone\u001b[0m \u001b[0;32mand\u001b[0m \u001b[0;32mnot\u001b[0m \u001b[0mres\u001b[0m\u001b[0;34m.\u001b[0m\u001b[0mday\u001b[0m\u001b[0;34m:\u001b[0m\u001b[0;34m\u001b[0m\u001b[0m\n",
      "\u001b[0;31mValueError\u001b[0m: minute must be in 0..59"
     ]
    }
   ],
   "source": [
    "test['date']=pd.to_datetime(test.timestamp,errors='raise')"
   ]
  },
  {
   "cell_type": "markdown",
   "metadata": {},
   "source": [
    "There is an issue with the timestamp format on some entries.  "
   ]
  },
  {
   "cell_type": "code",
   "execution_count": 27,
   "metadata": {
    "collapsed": false,
    "scrolled": true
   },
   "outputs": [
    {
     "data": {
      "text/html": [
       "<div>\n",
       "<table border=\"1\" class=\"dataframe\">\n",
       "  <thead>\n",
       "    <tr style=\"text-align: right;\">\n",
       "      <th></th>\n",
       "      <th>user_id</th>\n",
       "      <th>city</th>\n",
       "      <th>country</th>\n",
       "      <th>lat</th>\n",
       "      <th>long</th>\n",
       "    </tr>\n",
       "  </thead>\n",
       "  <tbody>\n",
       "    <tr>\n",
       "      <th>1729</th>\n",
       "      <td>383035</td>\n",
       "      <td>Saint Petersburg</td>\n",
       "      <td>USA</td>\n",
       "      <td>27.76</td>\n",
       "      <td>30.31</td>\n",
       "    </tr>\n",
       "    <tr>\n",
       "      <th>3025</th>\n",
       "      <td>594095</td>\n",
       "      <td>Saint Petersburg</td>\n",
       "      <td>USA</td>\n",
       "      <td>27.76</td>\n",
       "      <td>30.31</td>\n",
       "    </tr>\n",
       "    <tr>\n",
       "      <th>5202</th>\n",
       "      <td>860346</td>\n",
       "      <td>Saint Petersburg</td>\n",
       "      <td>USA</td>\n",
       "      <td>27.76</td>\n",
       "      <td>30.31</td>\n",
       "    </tr>\n",
       "    <tr>\n",
       "      <th>9164</th>\n",
       "      <td>794954</td>\n",
       "      <td>Saint Petersburg</td>\n",
       "      <td>USA</td>\n",
       "      <td>27.76</td>\n",
       "      <td>30.31</td>\n",
       "    </tr>\n",
       "    <tr>\n",
       "      <th>14125</th>\n",
       "      <td>94635</td>\n",
       "      <td>Saint Petersburg</td>\n",
       "      <td>USA</td>\n",
       "      <td>27.76</td>\n",
       "      <td>30.31</td>\n",
       "    </tr>\n",
       "    <tr>\n",
       "      <th>14893</th>\n",
       "      <td>982735</td>\n",
       "      <td>Saint Petersburg</td>\n",
       "      <td>USA</td>\n",
       "      <td>27.76</td>\n",
       "      <td>30.31</td>\n",
       "    </tr>\n",
       "    <tr>\n",
       "      <th>25000</th>\n",
       "      <td>113977</td>\n",
       "      <td>Saint Petersburg</td>\n",
       "      <td>USA</td>\n",
       "      <td>27.76</td>\n",
       "      <td>30.31</td>\n",
       "    </tr>\n",
       "    <tr>\n",
       "      <th>25889</th>\n",
       "      <td>422311</td>\n",
       "      <td>Saint Petersburg</td>\n",
       "      <td>USA</td>\n",
       "      <td>27.76</td>\n",
       "      <td>30.31</td>\n",
       "    </tr>\n",
       "    <tr>\n",
       "      <th>26941</th>\n",
       "      <td>371355</td>\n",
       "      <td>Saint Petersburg</td>\n",
       "      <td>USA</td>\n",
       "      <td>27.76</td>\n",
       "      <td>30.31</td>\n",
       "    </tr>\n",
       "    <tr>\n",
       "      <th>29024</th>\n",
       "      <td>66603</td>\n",
       "      <td>Saint Petersburg</td>\n",
       "      <td>USA</td>\n",
       "      <td>27.76</td>\n",
       "      <td>30.31</td>\n",
       "    </tr>\n",
       "    <tr>\n",
       "      <th>31381</th>\n",
       "      <td>503732</td>\n",
       "      <td>Saint Petersburg</td>\n",
       "      <td>USA</td>\n",
       "      <td>27.76</td>\n",
       "      <td>30.31</td>\n",
       "    </tr>\n",
       "    <tr>\n",
       "      <th>32268</th>\n",
       "      <td>286286</td>\n",
       "      <td>Saint Petersburg</td>\n",
       "      <td>USA</td>\n",
       "      <td>27.76</td>\n",
       "      <td>30.31</td>\n",
       "    </tr>\n",
       "    <tr>\n",
       "      <th>35435</th>\n",
       "      <td>735454</td>\n",
       "      <td>Saint Petersburg</td>\n",
       "      <td>USA</td>\n",
       "      <td>27.76</td>\n",
       "      <td>30.31</td>\n",
       "    </tr>\n",
       "    <tr>\n",
       "      <th>37887</th>\n",
       "      <td>700138</td>\n",
       "      <td>Saint Petersburg</td>\n",
       "      <td>USA</td>\n",
       "      <td>27.76</td>\n",
       "      <td>30.31</td>\n",
       "    </tr>\n",
       "    <tr>\n",
       "      <th>39303</th>\n",
       "      <td>390411</td>\n",
       "      <td>Saint Petersburg</td>\n",
       "      <td>USA</td>\n",
       "      <td>27.76</td>\n",
       "      <td>30.31</td>\n",
       "    </tr>\n",
       "    <tr>\n",
       "      <th>44443</th>\n",
       "      <td>978391</td>\n",
       "      <td>Saint Petersburg</td>\n",
       "      <td>USA</td>\n",
       "      <td>27.76</td>\n",
       "      <td>30.31</td>\n",
       "    </tr>\n",
       "    <tr>\n",
       "      <th>47625</th>\n",
       "      <td>857079</td>\n",
       "      <td>Saint Petersburg</td>\n",
       "      <td>USA</td>\n",
       "      <td>27.76</td>\n",
       "      <td>30.31</td>\n",
       "    </tr>\n",
       "    <tr>\n",
       "      <th>50331</th>\n",
       "      <td>477278</td>\n",
       "      <td>Saint Petersburg</td>\n",
       "      <td>USA</td>\n",
       "      <td>27.76</td>\n",
       "      <td>30.31</td>\n",
       "    </tr>\n",
       "    <tr>\n",
       "      <th>50444</th>\n",
       "      <td>775366</td>\n",
       "      <td>Saint Petersburg</td>\n",
       "      <td>USA</td>\n",
       "      <td>27.76</td>\n",
       "      <td>30.31</td>\n",
       "    </tr>\n",
       "    <tr>\n",
       "      <th>55248</th>\n",
       "      <td>566943</td>\n",
       "      <td>Saint Petersburg</td>\n",
       "      <td>USA</td>\n",
       "      <td>27.76</td>\n",
       "      <td>30.31</td>\n",
       "    </tr>\n",
       "    <tr>\n",
       "      <th>57394</th>\n",
       "      <td>724096</td>\n",
       "      <td>Saint Petersburg</td>\n",
       "      <td>USA</td>\n",
       "      <td>27.76</td>\n",
       "      <td>30.31</td>\n",
       "    </tr>\n",
       "    <tr>\n",
       "      <th>57928</th>\n",
       "      <td>174352</td>\n",
       "      <td>Saint Petersburg</td>\n",
       "      <td>USA</td>\n",
       "      <td>27.76</td>\n",
       "      <td>30.31</td>\n",
       "    </tr>\n",
       "    <tr>\n",
       "      <th>66026</th>\n",
       "      <td>216173</td>\n",
       "      <td>Saint Petersburg</td>\n",
       "      <td>USA</td>\n",
       "      <td>27.76</td>\n",
       "      <td>30.31</td>\n",
       "    </tr>\n",
       "    <tr>\n",
       "      <th>66082</th>\n",
       "      <td>752403</td>\n",
       "      <td>Saint Petersburg</td>\n",
       "      <td>USA</td>\n",
       "      <td>27.76</td>\n",
       "      <td>30.31</td>\n",
       "    </tr>\n",
       "    <tr>\n",
       "      <th>69689</th>\n",
       "      <td>639075</td>\n",
       "      <td>Saint Petersburg</td>\n",
       "      <td>USA</td>\n",
       "      <td>27.76</td>\n",
       "      <td>30.31</td>\n",
       "    </tr>\n",
       "    <tr>\n",
       "      <th>72621</th>\n",
       "      <td>357569</td>\n",
       "      <td>Saint Petersburg</td>\n",
       "      <td>USA</td>\n",
       "      <td>27.76</td>\n",
       "      <td>30.31</td>\n",
       "    </tr>\n",
       "    <tr>\n",
       "      <th>78832</th>\n",
       "      <td>640603</td>\n",
       "      <td>Saint Petersburg</td>\n",
       "      <td>USA</td>\n",
       "      <td>27.76</td>\n",
       "      <td>30.31</td>\n",
       "    </tr>\n",
       "    <tr>\n",
       "      <th>82429</th>\n",
       "      <td>786119</td>\n",
       "      <td>Saint Petersburg</td>\n",
       "      <td>USA</td>\n",
       "      <td>27.76</td>\n",
       "      <td>30.31</td>\n",
       "    </tr>\n",
       "    <tr>\n",
       "      <th>82932</th>\n",
       "      <td>36944</td>\n",
       "      <td>Saint Petersburg</td>\n",
       "      <td>USA</td>\n",
       "      <td>27.76</td>\n",
       "      <td>30.31</td>\n",
       "    </tr>\n",
       "    <tr>\n",
       "      <th>83074</th>\n",
       "      <td>481342</td>\n",
       "      <td>Saint Petersburg</td>\n",
       "      <td>USA</td>\n",
       "      <td>27.76</td>\n",
       "      <td>30.31</td>\n",
       "    </tr>\n",
       "    <tr>\n",
       "      <th>...</th>\n",
       "      <td>...</td>\n",
       "      <td>...</td>\n",
       "      <td>...</td>\n",
       "      <td>...</td>\n",
       "      <td>...</td>\n",
       "    </tr>\n",
       "    <tr>\n",
       "      <th>215906</th>\n",
       "      <td>859410</td>\n",
       "      <td>Saint Petersburg</td>\n",
       "      <td>USA</td>\n",
       "      <td>27.76</td>\n",
       "      <td>30.31</td>\n",
       "    </tr>\n",
       "    <tr>\n",
       "      <th>220044</th>\n",
       "      <td>642953</td>\n",
       "      <td>Saint Petersburg</td>\n",
       "      <td>USA</td>\n",
       "      <td>27.76</td>\n",
       "      <td>30.31</td>\n",
       "    </tr>\n",
       "    <tr>\n",
       "      <th>221223</th>\n",
       "      <td>147464</td>\n",
       "      <td>Saint Petersburg</td>\n",
       "      <td>USA</td>\n",
       "      <td>27.76</td>\n",
       "      <td>30.31</td>\n",
       "    </tr>\n",
       "    <tr>\n",
       "      <th>221244</th>\n",
       "      <td>706237</td>\n",
       "      <td>Saint Petersburg</td>\n",
       "      <td>USA</td>\n",
       "      <td>27.76</td>\n",
       "      <td>30.31</td>\n",
       "    </tr>\n",
       "    <tr>\n",
       "      <th>221993</th>\n",
       "      <td>142251</td>\n",
       "      <td>Saint Petersburg</td>\n",
       "      <td>USA</td>\n",
       "      <td>27.76</td>\n",
       "      <td>30.31</td>\n",
       "    </tr>\n",
       "    <tr>\n",
       "      <th>222068</th>\n",
       "      <td>322909</td>\n",
       "      <td>Saint Petersburg</td>\n",
       "      <td>USA</td>\n",
       "      <td>27.76</td>\n",
       "      <td>30.31</td>\n",
       "    </tr>\n",
       "    <tr>\n",
       "      <th>222258</th>\n",
       "      <td>179401</td>\n",
       "      <td>Saint Petersburg</td>\n",
       "      <td>USA</td>\n",
       "      <td>27.76</td>\n",
       "      <td>30.31</td>\n",
       "    </tr>\n",
       "    <tr>\n",
       "      <th>224505</th>\n",
       "      <td>484072</td>\n",
       "      <td>Saint Petersburg</td>\n",
       "      <td>USA</td>\n",
       "      <td>27.76</td>\n",
       "      <td>30.31</td>\n",
       "    </tr>\n",
       "    <tr>\n",
       "      <th>225119</th>\n",
       "      <td>748287</td>\n",
       "      <td>Saint Petersburg</td>\n",
       "      <td>USA</td>\n",
       "      <td>27.76</td>\n",
       "      <td>30.31</td>\n",
       "    </tr>\n",
       "    <tr>\n",
       "      <th>225126</th>\n",
       "      <td>149358</td>\n",
       "      <td>Saint Petersburg</td>\n",
       "      <td>USA</td>\n",
       "      <td>27.76</td>\n",
       "      <td>30.31</td>\n",
       "    </tr>\n",
       "    <tr>\n",
       "      <th>226074</th>\n",
       "      <td>530888</td>\n",
       "      <td>Saint Petersburg</td>\n",
       "      <td>USA</td>\n",
       "      <td>27.76</td>\n",
       "      <td>30.31</td>\n",
       "    </tr>\n",
       "    <tr>\n",
       "      <th>233549</th>\n",
       "      <td>719834</td>\n",
       "      <td>Saint Petersburg</td>\n",
       "      <td>USA</td>\n",
       "      <td>27.76</td>\n",
       "      <td>30.31</td>\n",
       "    </tr>\n",
       "    <tr>\n",
       "      <th>233786</th>\n",
       "      <td>403952</td>\n",
       "      <td>Saint Petersburg</td>\n",
       "      <td>USA</td>\n",
       "      <td>27.76</td>\n",
       "      <td>30.31</td>\n",
       "    </tr>\n",
       "    <tr>\n",
       "      <th>234233</th>\n",
       "      <td>520008</td>\n",
       "      <td>Saint Petersburg</td>\n",
       "      <td>USA</td>\n",
       "      <td>27.76</td>\n",
       "      <td>30.31</td>\n",
       "    </tr>\n",
       "    <tr>\n",
       "      <th>234565</th>\n",
       "      <td>740654</td>\n",
       "      <td>Saint Petersburg</td>\n",
       "      <td>USA</td>\n",
       "      <td>27.76</td>\n",
       "      <td>30.31</td>\n",
       "    </tr>\n",
       "    <tr>\n",
       "      <th>238901</th>\n",
       "      <td>889901</td>\n",
       "      <td>Saint Petersburg</td>\n",
       "      <td>USA</td>\n",
       "      <td>27.76</td>\n",
       "      <td>30.31</td>\n",
       "    </tr>\n",
       "    <tr>\n",
       "      <th>240410</th>\n",
       "      <td>769297</td>\n",
       "      <td>Saint Petersburg</td>\n",
       "      <td>USA</td>\n",
       "      <td>27.76</td>\n",
       "      <td>30.31</td>\n",
       "    </tr>\n",
       "    <tr>\n",
       "      <th>241163</th>\n",
       "      <td>7770</td>\n",
       "      <td>Saint Petersburg</td>\n",
       "      <td>USA</td>\n",
       "      <td>27.76</td>\n",
       "      <td>30.31</td>\n",
       "    </tr>\n",
       "    <tr>\n",
       "      <th>241815</th>\n",
       "      <td>338160</td>\n",
       "      <td>Saint Petersburg</td>\n",
       "      <td>USA</td>\n",
       "      <td>27.76</td>\n",
       "      <td>30.31</td>\n",
       "    </tr>\n",
       "    <tr>\n",
       "      <th>244374</th>\n",
       "      <td>717400</td>\n",
       "      <td>Saint Petersburg</td>\n",
       "      <td>USA</td>\n",
       "      <td>27.76</td>\n",
       "      <td>30.31</td>\n",
       "    </tr>\n",
       "    <tr>\n",
       "      <th>244676</th>\n",
       "      <td>279738</td>\n",
       "      <td>Saint Petersburg</td>\n",
       "      <td>USA</td>\n",
       "      <td>27.76</td>\n",
       "      <td>30.31</td>\n",
       "    </tr>\n",
       "    <tr>\n",
       "      <th>244757</th>\n",
       "      <td>855752</td>\n",
       "      <td>Saint Petersburg</td>\n",
       "      <td>USA</td>\n",
       "      <td>27.76</td>\n",
       "      <td>30.31</td>\n",
       "    </tr>\n",
       "    <tr>\n",
       "      <th>245044</th>\n",
       "      <td>630876</td>\n",
       "      <td>Saint Petersburg</td>\n",
       "      <td>USA</td>\n",
       "      <td>27.76</td>\n",
       "      <td>30.31</td>\n",
       "    </tr>\n",
       "    <tr>\n",
       "      <th>250444</th>\n",
       "      <td>195388</td>\n",
       "      <td>Saint Petersburg</td>\n",
       "      <td>USA</td>\n",
       "      <td>27.76</td>\n",
       "      <td>30.31</td>\n",
       "    </tr>\n",
       "    <tr>\n",
       "      <th>250619</th>\n",
       "      <td>104904</td>\n",
       "      <td>Saint Petersburg</td>\n",
       "      <td>USA</td>\n",
       "      <td>27.76</td>\n",
       "      <td>30.31</td>\n",
       "    </tr>\n",
       "    <tr>\n",
       "      <th>254551</th>\n",
       "      <td>518746</td>\n",
       "      <td>Saint Petersburg</td>\n",
       "      <td>USA</td>\n",
       "      <td>27.76</td>\n",
       "      <td>30.31</td>\n",
       "    </tr>\n",
       "    <tr>\n",
       "      <th>260495</th>\n",
       "      <td>184166</td>\n",
       "      <td>Saint Petersburg</td>\n",
       "      <td>USA</td>\n",
       "      <td>27.76</td>\n",
       "      <td>30.31</td>\n",
       "    </tr>\n",
       "    <tr>\n",
       "      <th>264484</th>\n",
       "      <td>267867</td>\n",
       "      <td>Saint Petersburg</td>\n",
       "      <td>USA</td>\n",
       "      <td>27.76</td>\n",
       "      <td>30.31</td>\n",
       "    </tr>\n",
       "    <tr>\n",
       "      <th>269501</th>\n",
       "      <td>338492</td>\n",
       "      <td>Saint Petersburg</td>\n",
       "      <td>USA</td>\n",
       "      <td>27.76</td>\n",
       "      <td>30.31</td>\n",
       "    </tr>\n",
       "    <tr>\n",
       "      <th>273654</th>\n",
       "      <td>473574</td>\n",
       "      <td>Saint Petersburg</td>\n",
       "      <td>USA</td>\n",
       "      <td>27.76</td>\n",
       "      <td>30.31</td>\n",
       "    </tr>\n",
       "  </tbody>\n",
       "</table>\n",
       "<p>145 rows × 5 columns</p>\n",
       "</div>"
      ],
      "text/plain": [
       "        user_id              city country    lat   long\n",
       "1729     383035  Saint Petersburg     USA  27.76  30.31\n",
       "3025     594095  Saint Petersburg     USA  27.76  30.31\n",
       "5202     860346  Saint Petersburg     USA  27.76  30.31\n",
       "9164     794954  Saint Petersburg     USA  27.76  30.31\n",
       "14125     94635  Saint Petersburg     USA  27.76  30.31\n",
       "14893    982735  Saint Petersburg     USA  27.76  30.31\n",
       "25000    113977  Saint Petersburg     USA  27.76  30.31\n",
       "25889    422311  Saint Petersburg     USA  27.76  30.31\n",
       "26941    371355  Saint Petersburg     USA  27.76  30.31\n",
       "29024     66603  Saint Petersburg     USA  27.76  30.31\n",
       "31381    503732  Saint Petersburg     USA  27.76  30.31\n",
       "32268    286286  Saint Petersburg     USA  27.76  30.31\n",
       "35435    735454  Saint Petersburg     USA  27.76  30.31\n",
       "37887    700138  Saint Petersburg     USA  27.76  30.31\n",
       "39303    390411  Saint Petersburg     USA  27.76  30.31\n",
       "44443    978391  Saint Petersburg     USA  27.76  30.31\n",
       "47625    857079  Saint Petersburg     USA  27.76  30.31\n",
       "50331    477278  Saint Petersburg     USA  27.76  30.31\n",
       "50444    775366  Saint Petersburg     USA  27.76  30.31\n",
       "55248    566943  Saint Petersburg     USA  27.76  30.31\n",
       "57394    724096  Saint Petersburg     USA  27.76  30.31\n",
       "57928    174352  Saint Petersburg     USA  27.76  30.31\n",
       "66026    216173  Saint Petersburg     USA  27.76  30.31\n",
       "66082    752403  Saint Petersburg     USA  27.76  30.31\n",
       "69689    639075  Saint Petersburg     USA  27.76  30.31\n",
       "72621    357569  Saint Petersburg     USA  27.76  30.31\n",
       "78832    640603  Saint Petersburg     USA  27.76  30.31\n",
       "82429    786119  Saint Petersburg     USA  27.76  30.31\n",
       "82932     36944  Saint Petersburg     USA  27.76  30.31\n",
       "83074    481342  Saint Petersburg     USA  27.76  30.31\n",
       "...         ...               ...     ...    ...    ...\n",
       "215906   859410  Saint Petersburg     USA  27.76  30.31\n",
       "220044   642953  Saint Petersburg     USA  27.76  30.31\n",
       "221223   147464  Saint Petersburg     USA  27.76  30.31\n",
       "221244   706237  Saint Petersburg     USA  27.76  30.31\n",
       "221993   142251  Saint Petersburg     USA  27.76  30.31\n",
       "222068   322909  Saint Petersburg     USA  27.76  30.31\n",
       "222258   179401  Saint Petersburg     USA  27.76  30.31\n",
       "224505   484072  Saint Petersburg     USA  27.76  30.31\n",
       "225119   748287  Saint Petersburg     USA  27.76  30.31\n",
       "225126   149358  Saint Petersburg     USA  27.76  30.31\n",
       "226074   530888  Saint Petersburg     USA  27.76  30.31\n",
       "233549   719834  Saint Petersburg     USA  27.76  30.31\n",
       "233786   403952  Saint Petersburg     USA  27.76  30.31\n",
       "234233   520008  Saint Petersburg     USA  27.76  30.31\n",
       "234565   740654  Saint Petersburg     USA  27.76  30.31\n",
       "238901   889901  Saint Petersburg     USA  27.76  30.31\n",
       "240410   769297  Saint Petersburg     USA  27.76  30.31\n",
       "241163     7770  Saint Petersburg     USA  27.76  30.31\n",
       "241815   338160  Saint Petersburg     USA  27.76  30.31\n",
       "244374   717400  Saint Petersburg     USA  27.76  30.31\n",
       "244676   279738  Saint Petersburg     USA  27.76  30.31\n",
       "244757   855752  Saint Petersburg     USA  27.76  30.31\n",
       "245044   630876  Saint Petersburg     USA  27.76  30.31\n",
       "250444   195388  Saint Petersburg     USA  27.76  30.31\n",
       "250619   104904  Saint Petersburg     USA  27.76  30.31\n",
       "254551   518746  Saint Petersburg     USA  27.76  30.31\n",
       "260495   184166  Saint Petersburg     USA  27.76  30.31\n",
       "264484   267867  Saint Petersburg     USA  27.76  30.31\n",
       "269501   338492  Saint Petersburg     USA  27.76  30.31\n",
       "273654   473574  Saint Petersburg     USA  27.76  30.31\n",
       "\n",
       "[145 rows x 5 columns]"
      ]
     },
     "execution_count": 27,
     "metadata": {},
     "output_type": "execute_result"
    }
   ],
   "source": [
    "#these users actually are in Russia according to the lattitude and longitude\n",
    "user_table[(user_table['lat']==27.76) & (user_table['long']==30.31)]"
   ]
  },
  {
   "cell_type": "code",
   "execution_count": 29,
   "metadata": {
    "collapsed": false
   },
   "outputs": [
    {
     "data": {
      "text/html": [
       "<div>\n",
       "<table border=\"1\" class=\"dataframe\">\n",
       "  <thead>\n",
       "    <tr style=\"text-align: right;\">\n",
       "      <th></th>\n",
       "      <th></th>\n",
       "      <th>converted</th>\n",
       "    </tr>\n",
       "    <tr>\n",
       "      <th>price</th>\n",
       "      <th></th>\n",
       "      <th></th>\n",
       "    </tr>\n",
       "  </thead>\n",
       "  <tbody>\n",
       "    <tr>\n",
       "      <th rowspan=\"8\" valign=\"top\">39</th>\n",
       "      <th>count</th>\n",
       "      <td>202672.000000</td>\n",
       "    </tr>\n",
       "    <tr>\n",
       "      <th>mean</th>\n",
       "      <td>0.019889</td>\n",
       "    </tr>\n",
       "    <tr>\n",
       "      <th>std</th>\n",
       "      <td>0.139620</td>\n",
       "    </tr>\n",
       "    <tr>\n",
       "      <th>min</th>\n",
       "      <td>0.000000</td>\n",
       "    </tr>\n",
       "    <tr>\n",
       "      <th>25%</th>\n",
       "      <td>0.000000</td>\n",
       "    </tr>\n",
       "    <tr>\n",
       "      <th>50%</th>\n",
       "      <td>0.000000</td>\n",
       "    </tr>\n",
       "    <tr>\n",
       "      <th>75%</th>\n",
       "      <td>0.000000</td>\n",
       "    </tr>\n",
       "    <tr>\n",
       "      <th>max</th>\n",
       "      <td>1.000000</td>\n",
       "    </tr>\n",
       "    <tr>\n",
       "      <th rowspan=\"8\" valign=\"top\">59</th>\n",
       "      <th>count</th>\n",
       "      <td>114128.000000</td>\n",
       "    </tr>\n",
       "    <tr>\n",
       "      <th>mean</th>\n",
       "      <td>0.015570</td>\n",
       "    </tr>\n",
       "    <tr>\n",
       "      <th>std</th>\n",
       "      <td>0.123806</td>\n",
       "    </tr>\n",
       "    <tr>\n",
       "      <th>min</th>\n",
       "      <td>0.000000</td>\n",
       "    </tr>\n",
       "    <tr>\n",
       "      <th>25%</th>\n",
       "      <td>0.000000</td>\n",
       "    </tr>\n",
       "    <tr>\n",
       "      <th>50%</th>\n",
       "      <td>0.000000</td>\n",
       "    </tr>\n",
       "    <tr>\n",
       "      <th>75%</th>\n",
       "      <td>0.000000</td>\n",
       "    </tr>\n",
       "    <tr>\n",
       "      <th>max</th>\n",
       "      <td>1.000000</td>\n",
       "    </tr>\n",
       "  </tbody>\n",
       "</table>\n",
       "</div>"
      ],
      "text/plain": [
       "                 converted\n",
       "price                     \n",
       "39    count  202672.000000\n",
       "      mean        0.019889\n",
       "      std         0.139620\n",
       "      min         0.000000\n",
       "      25%         0.000000\n",
       "      50%         0.000000\n",
       "      75%         0.000000\n",
       "      max         1.000000\n",
       "59    count  114128.000000\n",
       "      mean        0.015570\n",
       "      std         0.123806\n",
       "      min         0.000000\n",
       "      25%         0.000000\n",
       "      50%         0.000000\n",
       "      75%         0.000000\n",
       "      max         1.000000"
      ]
     },
     "execution_count": 29,
     "metadata": {},
     "output_type": "execute_result"
    }
   ],
   "source": [
    "test[['price','converted']].groupby('price').describe()\n"
   ]
  },
  {
   "cell_type": "code",
   "execution_count": 30,
   "metadata": {
    "collapsed": false
   },
   "outputs": [
    {
     "name": "stderr",
     "output_type": "stream",
     "text": [
      "/home/jeremy/anaconda3/lib/python3.5/site-packages/ipykernel/__main__.py:2: SettingWithCopyWarning: \n",
      "A value is trying to be set on a copy of a slice from a DataFrame.\n",
      "Try using .loc[row_indexer,col_indexer] = value instead\n",
      "\n",
      "See the caveats in the documentation: http://pandas.pydata.org/pandas-docs/stable/indexing.html#indexing-view-versus-copy\n",
      "  from ipykernel import kernelapp as app\n"
     ]
    },
    {
     "data": {
      "text/html": [
       "<div>\n",
       "<table border=\"1\" class=\"dataframe\">\n",
       "  <thead>\n",
       "    <tr style=\"text-align: right;\">\n",
       "      <th></th>\n",
       "      <th>price_x_converted</th>\n",
       "    </tr>\n",
       "    <tr>\n",
       "      <th>price</th>\n",
       "      <th></th>\n",
       "    </tr>\n",
       "  </thead>\n",
       "  <tbody>\n",
       "    <tr>\n",
       "      <th>39</th>\n",
       "      <td>0.775682</td>\n",
       "    </tr>\n",
       "    <tr>\n",
       "      <th>59</th>\n",
       "      <td>0.918644</td>\n",
       "    </tr>\n",
       "  </tbody>\n",
       "</table>\n",
       "</div>"
      ],
      "text/plain": [
       "       price_x_converted\n",
       "price                   \n",
       "39              0.775682\n",
       "59              0.918644"
      ]
     },
     "execution_count": 30,
     "metadata": {},
     "output_type": "execute_result"
    }
   ],
   "source": [
    "a=test[['price','converted']]\n",
    "a['price_x_converted']=a['price']*a['converted']\n",
    "a[['price','price_x_converted']].groupby('price').mean()"
   ]
  },
  {
   "cell_type": "code",
   "execution_count": 33,
   "metadata": {
    "collapsed": false
   },
   "outputs": [
    {
     "name": "stdout",
     "output_type": "stream",
     "text": [
      "7.92225772946e-09\n"
     ]
    }
   ],
   "source": [
    "from scipy.stats import ttest_ind\n",
    "tmp_a=a[a['price']==39]\n",
    "tmp_b=a[a['price']==59]\n",
    "t_stat,p_value=ttest_ind(tmp_a['converted']*39/59,tmp_b['converted'],equal_var=False)\n",
    "print(p_value)"
   ]
  },
  {
   "cell_type": "markdown",
   "metadata": {},
   "source": [
    "I multiply group A by the price ratio to scale it even with group B.  That way I can compare the two conversion rates.\n",
    "The p value is very small indicating strong evidence that the company should sell the software for $59."
   ]
  },
  {
   "cell_type": "code",
   "execution_count": 54,
   "metadata": {
    "collapsed": false
   },
   "outputs": [
    {
     "data": {
      "image/png": "[encoded data removed]",
      "text/plain": [
       "<matplotlib.figure.Figure at 0x7ff0ec10ff98>"
      ]
     },
     "metadata": {},
     "output_type": "display_data"
    }
   ],
   "source": [
    "\n",
    "a=test[['source','converted','price']].groupby(['source','price']).mean()\n",
    "a=a.reset_index()\n",
    "xlabels=a.source[a['price']==39]\n",
    "with sns.plotting_context(\"notebook\",font_scale=1.5):\n",
    "    sns.set_style('whitegrid',{'figure.figsize':(40,40)})\n",
    "    graph=sns.barplot(x='source',\n",
    "                 y='converted', hue='price',\n",
    "                  data=a,\n",
    "                 \n",
    "               ) \n",
    "    graph.tick_params(labelsize=9)\n",
    "    graph.set_xticklabels(xlabels,rotation=45)\n",
    "    sns.plt.title(\"Average Conversion by Source and Price\",fontsize=22)\n",
    "    plt.legend(loc='upper left',fontsize=10)\n",
    "    plt.ylabel(\"Average Conversion\", fontsize=18)\n",
    "    plt.xlabel(\"Source\", fontsize=18)\n",
    "    plt.rc('savefig',dpi=100)"
   ]
  },
  {
   "cell_type": "markdown",
   "metadata": {},
   "source": [
    "This graph provides a lot of insight into what sources to focus on, friend referral is by far the best source for \n",
    "conversion.  Direct traffic is quite weak which is probably expected.  There is a large discrepency in conversion for the 39 and 59 pricings for seo-bing and seo-yahoo sources which should be looked into.  Ads-bing is quite a weak source and other sources should probably be considered as a replacement."
   ]
  },
  {
   "cell_type": "code",
   "execution_count": 217,
   "metadata": {
    "collapsed": false
   },
   "outputs": [
    {
     "name": "stderr",
     "output_type": "stream",
     "text": [
      "/home/jeremy/anaconda3/lib/python3.5/site-packages/ipykernel/__main__.py:3: FutureWarning: sort(columns=....) is deprecated, use sort_values(by=.....)\n",
      "  app.launch_new_instance()\n"
     ]
    },
    {
     "data": {
      "image/png": "[encoded data removed]",
      "text/plain": [
       "<matplotlib.figure.Figure at 0x7f6d04314f60>"
      ]
     },
     "metadata": {},
     "output_type": "display_data"
    }
   ],
   "source": [
    "\n",
    "a=test[['device','converted','price']].groupby(['device','price']).mean()\n",
    "a=a.sort(['converted'],ascending=True)\n",
    "a=a.reset_index()\n",
    "\n",
    "with sns.plotting_context(\"notebook\",font_scale=1):\n",
    "    sns.set_style('whitegrid',rc={'figure.figsize':(25,10)})\n",
    "    graph=sns.barplot(x='device',\n",
    "                 y='converted',\n",
    "                  data=a, hue='price',\n",
    "                 \n",
    "               ) \n",
    "    graph.tick_params(labelsize=10)\n",
    "    sns.plt.title(\"Average Conversion by Device\",fontsize=22)\n",
    "    plt.ylabel(\"Average Conversion\", fontsize=16)\n",
    "    plt.legend(loc='upper right',fontsize=10)\n",
    "    plt.xlabel(\"Device\", fontsize=16)\n",
    "    plt.rc('savefig',dpi=100)"
   ]
  },
  {
   "cell_type": "markdown",
   "metadata": {},
   "source": [
    "There isn't much to draw from this graph.  Web and mobile conversion are mostly the same which is pretty good as I would expect mobile conversion to be smaller."
   ]
  },
  {
   "cell_type": "code",
   "execution_count": 221,
   "metadata": {
    "collapsed": false
   },
   "outputs": [
    {
     "name": "stderr",
     "output_type": "stream",
     "text": [
      "/home/jeremy/anaconda3/lib/python3.5/site-packages/ipykernel/__main__.py:3: FutureWarning: sort(columns=....) is deprecated, use sort_values(by=.....)\n",
      "  app.launch_new_instance()\n"
     ]
    },
    {
     "data": {
      "image/png": "[encoded data removed]",
      "text/plain": [
       "<matplotlib.figure.Figure at 0x7f6d0181d128>"
      ]
     },
     "metadata": {},
     "output_type": "display_data"
    }
   ],
   "source": [
    "\n",
    "a=test[['operative_system','converted','price']].groupby(['operative_system','price']).mean()\n",
    "a=a.sort(['converted'],ascending=True)\n",
    "a=a.reset_index()\n",
    "\n",
    "with sns.plotting_context(\"notebook\",font_scale=1.5):\n",
    "    sns.set_style('whitegrid',{'figure.figsize':(25,10)})\n",
    "    graph=sns.barplot(x='operative_system',\n",
    "                 y='converted', hue='price',\n",
    "                  data=a,\n",
    "                           ) \n",
    "    graph.tick_params(labelsize=10)\n",
    "    sns.plt.title(\"Average Conversion by Operative System\",fontsize=20)\n",
    "    plt.ylabel(\"Average Conversion\", fontsize=18)\n",
    "    plt.xlabel(\"Operative System\", fontsize=18)\n",
    "    plt.rc('savefig',dpi=100)"
   ]
  },
  {
   "cell_type": "markdown",
   "metadata": {},
   "source": [
    "Something happened with linux for price \\$59 as the conversion rate was 0.  This definitely needs to be examined before\n",
    "the company starts selling software for \\$59\\.  Also, linux conversion rate is low in general.  It seems like the company's software may not be very accomodating for linux users."
   ]
  },
  {
   "cell_type": "code",
   "execution_count": 15,
   "metadata": {
    "collapsed": false,
    "scrolled": true
   },
   "outputs": [
    {
     "data": {
      "text/plain": [
       "user_id             316800\n",
       "timestamp           316800\n",
       "source              316800\n",
       "device              316800\n",
       "operative_system    316800\n",
       "test                316800\n",
       "price               316800\n",
       "converted           316800\n",
       "city                275616\n",
       "country             275616\n",
       "lat                 275616\n",
       "long                275616\n",
       "dtype: int64"
      ]
     },
     "execution_count": 15,
     "metadata": {},
     "output_type": "execute_result"
    }
   ],
   "source": [
    "test_merged=test.merge(user_table,how='left',on='user_id')\n",
    "test_merged.count()"
   ]
  },
  {
   "cell_type": "markdown",
   "metadata": {
    "collapsed": false
   },
   "source": [
    "Merge was successful, Only some city countries, lattitudes, and longitudes are missing.\n",
    "\n"
   ]
  },
  {
   "cell_type": "markdown",
   "metadata": {},
   "source": [
    "\n",
    "I have created some interactive map visualizations in my scripts Us_city_convert_map.py, Us_city_nonconver_map.py, and\n",
    "Us_city_conver_mean_map.py.  The map files are html files that can be opened in any internet browser: Conversion_Count_map.html, Conversion_Mean_map.html and Missed_Conversion_map.html\n",
    "\n",
    "It is a great tool for in depth analysis of conversion counts and conversion rates \n",
    "throughout the United States.  Something that really sticks out is the largest conversion count is in New York by far.  New York also has a relatively low conversion rate compared to other areas.  This should be a great area to focus on.\n",
    "\n",
    "The general trend is that conversions are mostly around metropolitan areas.  States like Wyoming, Montana, Idaho, and the Dakohtas have very small conversion counts.\n",
    "\n",
    "If I had more time I would probably create a new feature that would be something like number of impressions per city divided by conversion rate for that city squared.  The largest value's would indicate the most important cities to focus on.\n"
   ]
  }
 ],
 "metadata": {
  "anaconda-cloud": {},
  "kernelspec": {
   "display_name": "Python [conda root]",
   "language": "python",
   "name": "conda-root-py"
  },
  "language_info": {
   "codemirror_mode": {
    "name": "ipython",
    "version": 3
   },
   "file_extension": ".py",
   "mimetype": "text/x-python",
   "name": "python",
   "nbconvert_exporter": "python",
   "pygments_lexer": "ipython3",
   "version": "3.5.2"
  }
 },
 "nbformat": 4,
 "nbformat_minor": 1
}
